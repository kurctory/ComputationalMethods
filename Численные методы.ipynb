{
 "cells": [
  {
   "cell_type": "code",
   "execution_count": 1,
   "metadata": {},
   "outputs": [],
   "source": [
    "# импорт всех необходимых функций\n",
    "from help_functions import *"
   ]
  },
  {
   "cell_type": "markdown",
   "metadata": {},
   "source": [
    "## Задача 1"
   ]
  },
  {
   "cell_type": "code",
   "execution_count": 2,
   "metadata": {},
   "outputs": [],
   "source": [
    "def f(x):\n",
    "    return np.arccos(x)\n",
    "\n",
    "# max производных arccos\n",
    "max_derivs = [1, 1.17188, 1, 1.17188, 1] # – может ошибка тут?? но вроде нет\n",
    "\n",
    "def get_table1():\n",
    "    n = 4\n",
    "    interp_point = 0.35\n",
    "    # задаем функцию\n",
    "    f = lambda x: np.arccos(x)\n",
    "    # список теоритических границ\n",
    "    bounds = []\n",
    "    for i in range(n):\n",
    "        x = np.array([0, 0.1, 0.2, 0.3, 0.5, 0.6])\n",
    "        y = np.array([f(k) for k in x])\n",
    "        x, y = nearest_points(x, y, interp_point, i + 1)\n",
    "        bound = np.abs(np.prod(interp_point - np.array(x))) * max_derivs[i] / math.factorial(i + 1)\n",
    "        bounds.append(bound)\n",
    "    \n",
    "    # список абсолютных погр мн-в разных степеней\n",
    "    Rs = [] \n",
    "    for i in range(n):\n",
    "        x = np.array([0, 0.1, 0.2, 0.3, 0.5, 0.6])\n",
    "        y = np.array([f(k) for k in x])\n",
    "        \n",
    "        x, y = nearest_points(x, y, interp_point, i + 1)\n",
    "        print(x)\n",
    "        coefs = newton_coefs(x, y)\n",
    "        # считаем значение многочлена в точке\n",
    "        value = value_at_point(interp_point, coefs, x)\n",
    "        R = np.abs(value - f(interp_point))\n",
    "        # добавляем в список полученную абсолютную погрешность\n",
    "        Rs.append(R)\n",
    "    \n",
    "    return pd.DataFrame({'R': Rs, 'граница': bounds})"
   ]
  },
  {
   "cell_type": "code",
   "execution_count": 3,
   "metadata": {},
   "outputs": [
    {
     "name": "stdout",
     "output_type": "stream",
     "text": [
      "[0.3]\n",
      "[0.3, 0.2]\n",
      "[0.3, 0.2, 0.5]\n",
      "[0.3, 0.2, 0.5, 0.1]\n"
     ]
    },
    {
     "data": {
      "text/html": [
       "<div>\n",
       "<style scoped>\n",
       "    .dataframe tbody tr th:only-of-type {\n",
       "        vertical-align: middle;\n",
       "    }\n",
       "\n",
       "    .dataframe tbody tr th {\n",
       "        vertical-align: top;\n",
       "    }\n",
       "\n",
       "    .dataframe thead th {\n",
       "        text-align: right;\n",
       "    }\n",
       "</style>\n",
       "<table border=\"1\" class=\"dataframe\">\n",
       "  <thead>\n",
       "    <tr style=\"text-align: right;\">\n",
       "      <th></th>\n",
       "      <th>R</th>\n",
       "      <th>граница</th>\n",
       "    </tr>\n",
       "  </thead>\n",
       "  <tbody>\n",
       "    <tr>\n",
       "      <th>0</th>\n",
       "      <td>0.052878</td>\n",
       "      <td>0.050000</td>\n",
       "    </tr>\n",
       "    <tr>\n",
       "      <th>1</th>\n",
       "      <td>0.001211</td>\n",
       "      <td>0.004395</td>\n",
       "    </tr>\n",
       "    <tr>\n",
       "      <th>2</th>\n",
       "      <td>0.000318</td>\n",
       "      <td>0.000187</td>\n",
       "    </tr>\n",
       "    <tr>\n",
       "      <th>3</th>\n",
       "      <td>0.000046</td>\n",
       "      <td>0.000014</td>\n",
       "    </tr>\n",
       "  </tbody>\n",
       "</table>\n",
       "</div>"
      ],
      "text/plain": [
       "          R   граница\n",
       "0  0.052878  0.050000\n",
       "1  0.001211  0.004395\n",
       "2  0.000318  0.000187\n",
       "3  0.000046  0.000014"
      ]
     },
     "execution_count": 3,
     "metadata": {},
     "output_type": "execute_result"
    }
   ],
   "source": [
    "# значения получаются странными (граница меньше R, но коэф-ты перепроверяла, максимумы производных вроде как тоже верные)\n",
    "# не понятно\n",
    "get_table1()"
   ]
  },
  {
   "cell_type": "code",
   "execution_count": 4,
   "metadata": {},
   "outputs": [],
   "source": [
    "def get_table2():\n",
    "    # по равностоящим узлам\n",
    "    a = 0.5\n",
    "    b = 1.5\n",
    "    n = 4\n",
    "    # шаг\n",
    "    h = 0.1\n",
    "    f = lambda x: np.cos(x)\n",
    "    # дробим отрезок на части длиной h\n",
    "    x = np.linspace(a, b, int((b - a) / h)  + 1)\n",
    "    y = [f(z) for z in x]\n",
    "    interp_point = 0.45\n",
    "    t = (interp_point - a) / h\n",
    "\n",
    "    table = np.zeros((n + 1, 6))\n",
    "    for k in range(n + 1):\n",
    "        ds_y0 = finite_differences(y, k) # считаем разности \n",
    "        dk_y0 = ds_y0[-1]\n",
    "        nk = get_Nk(t, k)\n",
    "        nk_delta = nk * dk_y0\n",
    "        pk = get_Pk(ds_y0, t, k)\n",
    "\n",
    "        # оценка погрешности\n",
    "        m_kpo = np.abs(max_derivs[k])\n",
    "        n_kpo = get_Nk(t, k + 1)\n",
    "        th_R = np.abs(n_kpo) * m_kpo * h ** (k + 1)\n",
    "        # записываем в таблицу\n",
    "        table[k] = np.array([dk_y0, nk, nk_delta, pk, f(interp_point) - pk, th_R])\n",
    "        \n",
    "    index = ['∆k*y0', 'N_k(t)', 'N_k*∆k*y0',\n",
    "            f'P_k({interp_point})', f'f({interp_point}) - P_k({interp_point})',\n",
    "            f'|R_k({interp_point})| <=']\n",
    "    return pd.DataFrame(table.T, index=index)"
   ]
  },
  {
   "cell_type": "code",
   "execution_count": 5,
   "metadata": {},
   "outputs": [
    {
     "data": {
      "text/html": [
       "<div>\n",
       "<style scoped>\n",
       "    .dataframe tbody tr th:only-of-type {\n",
       "        vertical-align: middle;\n",
       "    }\n",
       "\n",
       "    .dataframe tbody tr th {\n",
       "        vertical-align: top;\n",
       "    }\n",
       "\n",
       "    .dataframe thead th {\n",
       "        text-align: right;\n",
       "    }\n",
       "</style>\n",
       "<table border=\"1\" class=\"dataframe\">\n",
       "  <thead>\n",
       "    <tr style=\"text-align: right;\">\n",
       "      <th></th>\n",
       "      <th>0</th>\n",
       "      <th>1</th>\n",
       "      <th>2</th>\n",
       "      <th>3</th>\n",
       "      <th>4</th>\n",
       "    </tr>\n",
       "  </thead>\n",
       "  <tbody>\n",
       "    <tr>\n",
       "      <th>∆k*y0</th>\n",
       "      <td>0.877583</td>\n",
       "      <td>-0.052247</td>\n",
       "      <td>-0.008246</td>\n",
       "      <td>0.000604</td>\n",
       "      <td>0.000076</td>\n",
       "    </tr>\n",
       "    <tr>\n",
       "      <th>N_k(t)</th>\n",
       "      <td>1.000000</td>\n",
       "      <td>-0.500000</td>\n",
       "      <td>0.375000</td>\n",
       "      <td>-0.312500</td>\n",
       "      <td>0.273438</td>\n",
       "    </tr>\n",
       "    <tr>\n",
       "      <th>N_k*∆k*y0</th>\n",
       "      <td>0.877583</td>\n",
       "      <td>0.026123</td>\n",
       "      <td>-0.003092</td>\n",
       "      <td>-0.000189</td>\n",
       "      <td>0.000021</td>\n",
       "    </tr>\n",
       "    <tr>\n",
       "      <th>P_k(0.45)</th>\n",
       "      <td>0.877583</td>\n",
       "      <td>0.903706</td>\n",
       "      <td>0.900614</td>\n",
       "      <td>0.900425</td>\n",
       "      <td>0.900446</td>\n",
       "    </tr>\n",
       "    <tr>\n",
       "      <th>f(0.45) - P_k(0.45)</th>\n",
       "      <td>0.022865</td>\n",
       "      <td>-0.003259</td>\n",
       "      <td>-0.000167</td>\n",
       "      <td>0.000022</td>\n",
       "      <td>0.000002</td>\n",
       "    </tr>\n",
       "    <tr>\n",
       "      <th>|R_k(0.45)| &lt;=</th>\n",
       "      <td>0.050000</td>\n",
       "      <td>0.004395</td>\n",
       "      <td>0.000313</td>\n",
       "      <td>0.000032</td>\n",
       "      <td>0.000002</td>\n",
       "    </tr>\n",
       "  </tbody>\n",
       "</table>\n",
       "</div>"
      ],
      "text/plain": [
       "                            0         1         2         3         4\n",
       "∆k*y0                0.877583 -0.052247 -0.008246  0.000604  0.000076\n",
       "N_k(t)               1.000000 -0.500000  0.375000 -0.312500  0.273438\n",
       "N_k*∆k*y0            0.877583  0.026123 -0.003092 -0.000189  0.000021\n",
       "P_k(0.45)            0.877583  0.903706  0.900614  0.900425  0.900446\n",
       "f(0.45) - P_k(0.45)  0.022865 -0.003259 -0.000167  0.000022  0.000002\n",
       "|R_k(0.45)| <=       0.050000  0.004395  0.000313  0.000032  0.000002"
      ]
     },
     "execution_count": 5,
     "metadata": {},
     "output_type": "execute_result"
    }
   ],
   "source": [
    "get_table2()"
   ]
  },
  {
   "cell_type": "markdown",
   "metadata": {},
   "source": [
    "## Задание 2"
   ]
  },
  {
   "cell_type": "code",
   "execution_count": 6,
   "metadata": {},
   "outputs": [
    {
     "name": "stdout",
     "output_type": "stream",
     "text": [
      "[1.266103672779499, -1.0333473322506672, -0.20394425221279877, -0.2418314309950376, -0.23816127753504696, -0.213694653177382]\n"
     ]
    }
   ],
   "source": [
    "def f(x):\n",
    "    return np.arccos(x)\n",
    "\n",
    "x = np.array([0, 0.1, 0.2, 0.3, 0.5, 0.6])\n",
    "y = np.array([f(i) for i in x])\n",
    "interp_point = 0.35\n",
    "x, y = nearest_points(x, y, interp_point, len(x)) # построим многочлен 5й степени\n",
    "\n",
    "coefs = newton_coefs(x, y)\n",
    "print(coefs)"
   ]
  },
  {
   "cell_type": "code",
   "execution_count": 7,
   "metadata": {},
   "outputs": [
    {
     "data": {
      "text/latex": [
       "$\\displaystyle - 1.03334733225067 x - 0.213694653177382 \\left(x - 0.6\\right) \\left(x - 0.5\\right) \\left(x - 0.3\\right) \\left(x - 0.2\\right) \\left(x - 0.1\\right) - 0.238161277535047 \\left(x - 0.5\\right) \\left(x - 0.3\\right) \\left(x - 0.2\\right) \\left(x - 0.1\\right) - 0.241831430995038 \\left(x - 0.5\\right) \\left(x - 0.3\\right) \\left(x - 0.2\\right) - 0.203944252212799 \\left(x - 0.3\\right) \\left(x - 0.2\\right) + 1.5761078724547$"
      ],
      "text/plain": [
       "-1.03334733225067*x - 0.213694653177382*(x - 0.6)*(x - 0.5)*(x - 0.3)*(x - 0.2)*(x - 0.1) - 0.238161277535047*(x - 0.5)*(x - 0.3)*(x - 0.2)*(x - 0.1) - 0.241831430995038*(x - 0.5)*(x - 0.3)*(x - 0.2) - 0.203944252212799*(x - 0.3)*(x - 0.2) + 1.5761078724547"
      ]
     },
     "execution_count": 7,
     "metadata": {},
     "output_type": "execute_result"
    }
   ],
   "source": [
    "x_var = sp.symbols('x')\n",
    "polynom = sympy_poly(x, y, x_var, coefs)\n",
    "\n",
    "true_value = 0.75\n",
    "true_point = np.cos(true_value)\n",
    "polynom"
   ]
  },
  {
   "cell_type": "code",
   "execution_count": 8,
   "metadata": {},
   "outputs": [
    {
     "name": "stdout",
     "output_type": "stream",
     "text": [
      "решение нашлось после 3 итераций.\n"
     ]
    }
   ],
   "source": [
    "root = newton_root(polynom - true_value, 0.5, 0.000001, 100)"
   ]
  },
  {
   "cell_type": "code",
   "execution_count": 9,
   "metadata": {},
   "outputs": [
    {
     "data": {
      "text/html": [
       "<div>\n",
       "<style scoped>\n",
       "    .dataframe tbody tr th:only-of-type {\n",
       "        vertical-align: middle;\n",
       "    }\n",
       "\n",
       "    .dataframe tbody tr th {\n",
       "        vertical-align: top;\n",
       "    }\n",
       "\n",
       "    .dataframe thead th {\n",
       "        text-align: right;\n",
       "    }\n",
       "</style>\n",
       "<table border=\"1\" class=\"dataframe\">\n",
       "  <thead>\n",
       "    <tr style=\"text-align: right;\">\n",
       "      <th></th>\n",
       "      <th></th>\n",
       "    </tr>\n",
       "  </thead>\n",
       "  <tbody>\n",
       "    <tr>\n",
       "      <th>настоящая точка</th>\n",
       "      <td>0.731689</td>\n",
       "    </tr>\n",
       "    <tr>\n",
       "      <th>корень</th>\n",
       "      <td>0.732664973336608</td>\n",
       "    </tr>\n",
       "    <tr>\n",
       "      <th>ошибка</th>\n",
       "      <td>0.000976104462787175</td>\n",
       "    </tr>\n",
       "    <tr>\n",
       "      <th>настоящее значение</th>\n",
       "      <td>0.75</td>\n",
       "    </tr>\n",
       "    <tr>\n",
       "      <th>приближение</th>\n",
       "      <td>0.75</td>\n",
       "    </tr>\n",
       "  </tbody>\n",
       "</table>\n",
       "</div>"
      ],
      "text/plain": [
       "                                        \n",
       "настоящая точка                 0.731689\n",
       "корень                 0.732664973336608\n",
       "ошибка              0.000976104462787175\n",
       "настоящее значение                  0.75\n",
       "приближение                         0.75"
      ]
     },
     "execution_count": 9,
     "metadata": {},
     "output_type": "execute_result"
    }
   ],
   "source": [
    "estimation = float(polynom.subs({x_var : root}))\n",
    "pd.DataFrame([true_point, root, root - true_point, true_value, estimation],\n",
    "             index=['настоящая точка', 'корень', 'ошибка', 'настоящее значение', 'приближение'], columns=[''])"
   ]
  },
  {
   "cell_type": "markdown",
   "metadata": {},
   "source": [
    "## Задание 3"
   ]
  },
  {
   "cell_type": "code",
   "execution_count": 10,
   "metadata": {},
   "outputs": [
    {
     "data": {
      "text/html": [
       "<div>\n",
       "<style scoped>\n",
       "    .dataframe tbody tr th:only-of-type {\n",
       "        vertical-align: middle;\n",
       "    }\n",
       "\n",
       "    .dataframe tbody tr th {\n",
       "        vertical-align: top;\n",
       "    }\n",
       "\n",
       "    .dataframe thead th {\n",
       "        text-align: right;\n",
       "    }\n",
       "</style>\n",
       "<table border=\"1\" class=\"dataframe\">\n",
       "  <thead>\n",
       "    <tr style=\"text-align: right;\">\n",
       "      <th></th>\n",
       "      <th>приближение</th>\n",
       "      <th>Рунге</th>\n",
       "      <th>ошибка</th>\n",
       "    </tr>\n",
       "  </thead>\n",
       "  <tbody>\n",
       "    <tr>\n",
       "      <th>0</th>\n",
       "      <td>0.977887</td>\n",
       "      <td>0.977995</td>\n",
       "      <td>0.000108</td>\n",
       "    </tr>\n",
       "  </tbody>\n",
       "</table>\n",
       "</div>"
      ],
      "text/plain": [
       "   приближение     Рунге    ошибка\n",
       "0     0.977887  0.977995  0.000108"
      ]
     },
     "execution_count": 10,
     "metadata": {},
     "output_type": "execute_result"
    }
   ],
   "source": [
    "def f(x):\n",
    "    return 1 / (1 + x**2)\n",
    "# по корням мн-на\n",
    "interp_point = 0.15\n",
    "n = 7\n",
    "x = [np.cos(np.pi * (2 * k + 8) / 22) for k in range(n)]\n",
    "y = [f(i) for i in x]\n",
    "\n",
    "x, y = nearest_points(x, y, interp_point, n) \n",
    "coefs = newton_coefs(x, y)\n",
    "estimation = value_at_point(interp_point, coefs, x)\n",
    "\n",
    "pd.DataFrame({'приближение': [estimation], 'Рунге': [f(interp_point)], 'ошибка': [np.abs(estimation - f(interp_point))]})"
   ]
  },
  {
   "cell_type": "code",
   "execution_count": 11,
   "metadata": {},
   "outputs": [],
   "source": [
    "# по равностоящим узлам\n",
    "a = -1\n",
    "b = 1\n",
    "h = (b - a) / (n - 1)\n",
    "x = np.linspace(a, b, n)\n",
    "y = [f(i) for i in x]\n",
    "t = interp_point / h"
   ]
  },
  {
   "cell_type": "code",
   "execution_count": 12,
   "metadata": {},
   "outputs": [],
   "source": [
    "ds_y0 = finite_differences2(y, n - 1)\n",
    "ds_y0 = [ds_y0[k][3 - k // 2] for k in range(n)] # получаем средний ряд\n",
    "# считаем Nk\n",
    "Nks = [1]\n",
    "for i in range(1, n): Nks.append(Nks[-1] * (t - (-1)**i * (i // 2)) / i)\n",
    "estimation = 0\n",
    "for i, j in zip(ds_y0, Nks):\n",
    "    estimation += i * j"
   ]
  },
  {
   "cell_type": "code",
   "execution_count": 13,
   "metadata": {},
   "outputs": [
    {
     "data": {
      "text/html": [
       "<div>\n",
       "<style scoped>\n",
       "    .dataframe tbody tr th:only-of-type {\n",
       "        vertical-align: middle;\n",
       "    }\n",
       "\n",
       "    .dataframe tbody tr th {\n",
       "        vertical-align: top;\n",
       "    }\n",
       "\n",
       "    .dataframe thead th {\n",
       "        text-align: right;\n",
       "    }\n",
       "</style>\n",
       "<table border=\"1\" class=\"dataframe\">\n",
       "  <thead>\n",
       "    <tr style=\"text-align: right;\">\n",
       "      <th></th>\n",
       "      <th>приближение</th>\n",
       "      <th>Рунге</th>\n",
       "      <th>ошибка</th>\n",
       "    </tr>\n",
       "  </thead>\n",
       "  <tbody>\n",
       "    <tr>\n",
       "      <th>0</th>\n",
       "      <td>0.978246</td>\n",
       "      <td>0.977995</td>\n",
       "      <td>0.000251</td>\n",
       "    </tr>\n",
       "  </tbody>\n",
       "</table>\n",
       "</div>"
      ],
      "text/plain": [
       "   приближение     Рунге    ошибка\n",
       "0     0.978246  0.977995  0.000251"
      ]
     },
     "execution_count": 13,
     "metadata": {},
     "output_type": "execute_result"
    }
   ],
   "source": [
    "pd.DataFrame({'приближение': [estimation],\n",
    "              'Рунге': [f(interp_point)],\n",
    "              'ошибка': [np.abs(estimation - f(interp_point))]})"
   ]
  },
  {
   "cell_type": "markdown",
   "metadata": {},
   "source": [
    "## Задача 4"
   ]
  },
  {
   "cell_type": "code",
   "execution_count": 14,
   "metadata": {},
   "outputs": [
    {
     "name": "stdout",
     "output_type": "stream",
     "text": [
      "[24, 39.0, -21.0, 2.222222222222222]\n"
     ]
    }
   ],
   "source": [
    "x = [-2, -2, -2, 1]\n",
    "y = [24, 24, 24, 12]\n",
    "dy = [39, 39, 39, None]\n",
    "d2y = [-42, -42, -42, None]\n",
    "# сортируем\n",
    "inds = [m[1] for m in sorted(zip(x, range(len(x))))]\n",
    "x = [x[i] for i in inds]\n",
    "y = [y[i] for i in inds]\n",
    "dy = [dy[i] for i in inds]\n",
    "d2y = [d2y[i] for i in inds]\n",
    "# производные \n",
    "derivatives = [y, dy, d2y]\n",
    "# порядок\n",
    "order = 5\n",
    "# коэф-ты\n",
    "coefs = divided_differences(x, y, order, derivatives)\n",
    "print(coefs)"
   ]
  },
  {
   "cell_type": "code",
   "execution_count": 15,
   "metadata": {},
   "outputs": [
    {
     "data": {
      "text/latex": [
       "$\\displaystyle 39.0 x + 2.22222222222222 \\left(x + 2\\right)^{3} - 21.0 \\left(x + 2\\right)^{2} + 102.0$"
      ],
      "text/plain": [
       "39.0*x + 2.22222222222222*(x + 2)**3 - 21.0*(x + 2)**2 + 102.0"
      ]
     },
     "execution_count": 15,
     "metadata": {},
     "output_type": "execute_result"
    }
   ],
   "source": [
    "# получаем многочлен по коэф-там\n",
    "polynom = sympy_poly(x, y, x_var, coefs)\n",
    "polynom"
   ]
  },
  {
   "cell_type": "code",
   "execution_count": 16,
   "metadata": {},
   "outputs": [
    {
     "name": "stdout",
     "output_type": "stream",
     "text": [
      "24.0000000000000 - значение в -2\n",
      "12.0000000000000 - значение в 1\n",
      "39.0000000000000 - первая производная в -2\n",
      "-42.0000000000000 - вторая производная в -2\n"
     ]
    }
   ],
   "source": [
    "# проверка\n",
    "print(polynom.subs({x_var: -2}), '- значение в -2')\n",
    "print(polynom.subs({x_var: 1}), '- значение в 1')\n",
    "print(diff(polynom).subs({x_var: -2}), '- первая производная в -2')\n",
    "print(diff(diff(polynom)).subs({x_var: -2}), '- вторая производная в -2')"
   ]
  },
  {
   "cell_type": "markdown",
   "metadata": {},
   "source": [
    "## Задача 6"
   ]
  },
  {
   "cell_type": "markdown",
   "metadata": {},
   "source": [
    "## 1\n",
    "\n",
    "wolfram: \n",
    "$$ \\int_{0}^{1}\\frac{\\cos(x)}{\\sqrt{x}} dx = 1.80905$$\n",
    "\n",
    "## 2"
   ]
  },
  {
   "cell_type": "code",
   "execution_count": 17,
   "metadata": {},
   "outputs": [
    {
     "data": {
      "text/plain": [
       "1.2410891611274912"
      ]
     },
     "execution_count": 17,
     "metadata": {},
     "output_type": "execute_result"
    }
   ],
   "source": [
    "simpson = (1 - 0) * np.cos(0.5)/np.sqrt(0.5)\n",
    "simpson"
   ]
  },
  {
   "cell_type": "markdown",
   "metadata": {},
   "source": [
    "## 3"
   ]
  },
  {
   "cell_type": "code",
   "execution_count": 18,
   "metadata": {},
   "outputs": [
    {
     "data": {
      "text/plain": [
       "1.8587503258090148"
      ]
     },
     "execution_count": 18,
     "metadata": {},
     "output_type": "execute_result"
    }
   ],
   "source": [
    "#узлы\n",
    "nodes = np.array([1/4, 3/4])\n",
    "#моменты весовой функции\n",
    "moment = np.array([2, 2/3, 2/5, 2/7])\n",
    "#коэфициенты\n",
    "A = []\n",
    "A.append((moment[0]*nodes[1]-moment[1])/(nodes[1]-nodes[0]))\n",
    "A.append((moment[1]-moment[0]*nodes[0])/(nodes[1]-nodes[0]))\n",
    "#приближенное значение интеграла\n",
    "quadrature = 0\n",
    "for i in range(2):\n",
    "    quadrature += A[i]*np.cos(nodes[i])\n",
    "quadrature"
   ]
  },
  {
   "cell_type": "markdown",
   "metadata": {},
   "source": [
    "## 4"
   ]
  },
  {
   "cell_type": "code",
   "execution_count": 19,
   "metadata": {},
   "outputs": [
    {
     "name": "stdout",
     "output_type": "stream",
     "text": [
      "1.80861639537771\n"
     ]
    }
   ],
   "source": [
    "#моменты уже посчитаны в пункте 3\n",
    "#ищем коэфициенты многочлена\n",
    "M1 = []\n",
    "v1 =[]\n",
    "for i in range(2):\n",
    "    M1.append([moment[i], moment[i+1]]) \n",
    "    v1.append(-moment[i+2])\n",
    "a0 = 3/35\n",
    "a1 = -6/7\n",
    "#находим корни -узлы\n",
    "w = x_var ** 2 + a1 * x_var + a0\n",
    "root = sp.solve(w)\n",
    "#\n",
    "A = []\n",
    "A.append((moment[0]*root[1]-moment[1])/(root[1]-root[0]))\n",
    "A.append((moment[1]-moment[0]*root[0])/(root[1]-root[0]))\n",
    "quadrature = 0\n",
    "for i in range(2):\n",
    "    quadrature += A[i]*np.cos(float(root[i]))\n",
    "print(quadrature)"
   ]
  },
  {
   "cell_type": "markdown",
   "metadata": {},
   "source": [
    "## Задание 5"
   ]
  },
  {
   "cell_type": "code",
   "execution_count": 20,
   "metadata": {},
   "outputs": [],
   "source": [
    "def f(x):\n",
    "    return np.exp(2 * x)\n",
    "interp_point = 1.0\n",
    "a = 0\n",
    "b = 2\n",
    "h = 0.1 \n",
    "x = np.linspace(a, b, int((b - a) / h + 1))\n",
    "y = [f(i) for i in x]"
   ]
  },
  {
   "cell_type": "code",
   "execution_count": 21,
   "metadata": {},
   "outputs": [],
   "source": [
    "def get_table4(x, y, h, return_df=True):\n",
    "    # считаем производные\n",
    "    fod_values_1 = first_order_deriv_1(x, y, h)\n",
    "    fod_values_2 = first_order_deriv_2(x, y, h)\n",
    "    sod_values_2 = second_order_deriv(x, y, h)\n",
    "    td_values_1 = true_first_order_deriv(x)\n",
    "    td_values_2 = true_second_order_deriv(x)\n",
    "    \n",
    "    \n",
    "    error_1 = td_values_1 - fod_values_1 # O(h)\n",
    "    error_2 = td_values_1 - fod_values_2 # O(h^2)\n",
    "    second_error_2 = td_values_2 - sod_values_2 # O(h^2)\n",
    "\n",
    "    df_dict = {'x': x, 'f(x)': y, \"f'\": td_values_1, \"~f'\": fod_values_1, \"O(h)\": error_1,\n",
    "               \"~~f'\": fod_values_2, \"O(h^2)\": error_2, 'f\"': td_values_2, '~f\"': sod_values_2,\n",
    "               'O(h^2)_second': second_error_2 }\n",
    "    \n",
    "    df = pd.DataFrame(df_dict).iloc[1:-5]\n",
    "    if return_df:\n",
    "        return df\n",
    "    # возвращаем только нужную ошибку для eval_point\n",
    "    return df[df.x == interp_point].iloc[0]['O(h^2)']"
   ]
  },
  {
   "cell_type": "code",
   "execution_count": 22,
   "metadata": {},
   "outputs": [
    {
     "data": {
      "text/html": [
       "<div>\n",
       "<style scoped>\n",
       "    .dataframe tbody tr th:only-of-type {\n",
       "        vertical-align: middle;\n",
       "    }\n",
       "\n",
       "    .dataframe tbody tr th {\n",
       "        vertical-align: top;\n",
       "    }\n",
       "\n",
       "    .dataframe thead th {\n",
       "        text-align: right;\n",
       "    }\n",
       "</style>\n",
       "<table border=\"1\" class=\"dataframe\">\n",
       "  <thead>\n",
       "    <tr style=\"text-align: right;\">\n",
       "      <th></th>\n",
       "      <th>x</th>\n",
       "      <th>f(x)</th>\n",
       "      <th>f'</th>\n",
       "      <th>~f'</th>\n",
       "      <th>O(h)</th>\n",
       "      <th>~~f'</th>\n",
       "      <th>O(h^2)</th>\n",
       "      <th>f\"</th>\n",
       "      <th>~f\"</th>\n",
       "      <th>O(h^2)_second</th>\n",
       "    </tr>\n",
       "  </thead>\n",
       "  <tbody>\n",
       "    <tr>\n",
       "      <th>1</th>\n",
       "      <td>0.1</td>\n",
       "      <td>1.221403</td>\n",
       "      <td>2.442806</td>\n",
       "      <td>2.704219</td>\n",
       "      <td>-0.261414</td>\n",
       "      <td>2.459123</td>\n",
       "      <td>-0.016318</td>\n",
       "      <td>4.885611</td>\n",
       "      <td>4.901918</td>\n",
       "      <td>-0.016307</td>\n",
       "    </tr>\n",
       "    <tr>\n",
       "      <th>2</th>\n",
       "      <td>0.2</td>\n",
       "      <td>1.491825</td>\n",
       "      <td>2.983649</td>\n",
       "      <td>3.302941</td>\n",
       "      <td>-0.319292</td>\n",
       "      <td>3.003580</td>\n",
       "      <td>-0.019931</td>\n",
       "      <td>5.967299</td>\n",
       "      <td>5.987216</td>\n",
       "      <td>-0.019918</td>\n",
       "    </tr>\n",
       "    <tr>\n",
       "      <th>3</th>\n",
       "      <td>0.3</td>\n",
       "      <td>1.822119</td>\n",
       "      <td>3.644238</td>\n",
       "      <td>4.034221</td>\n",
       "      <td>-0.389984</td>\n",
       "      <td>3.668581</td>\n",
       "      <td>-0.024344</td>\n",
       "      <td>7.288475</td>\n",
       "      <td>7.312803</td>\n",
       "      <td>-0.024327</td>\n",
       "    </tr>\n",
       "    <tr>\n",
       "      <th>4</th>\n",
       "      <td>0.4</td>\n",
       "      <td>2.225541</td>\n",
       "      <td>4.451082</td>\n",
       "      <td>4.927409</td>\n",
       "      <td>-0.476327</td>\n",
       "      <td>4.480815</td>\n",
       "      <td>-0.029733</td>\n",
       "      <td>8.902164</td>\n",
       "      <td>8.931877</td>\n",
       "      <td>-0.029713</td>\n",
       "    </tr>\n",
       "    <tr>\n",
       "      <th>5</th>\n",
       "      <td>0.5</td>\n",
       "      <td>2.718282</td>\n",
       "      <td>5.436564</td>\n",
       "      <td>6.018351</td>\n",
       "      <td>-0.581787</td>\n",
       "      <td>5.472880</td>\n",
       "      <td>-0.036316</td>\n",
       "      <td>10.873127</td>\n",
       "      <td>10.909419</td>\n",
       "      <td>-0.036292</td>\n",
       "    </tr>\n",
       "    <tr>\n",
       "      <th>6</th>\n",
       "      <td>0.6</td>\n",
       "      <td>3.320117</td>\n",
       "      <td>6.640234</td>\n",
       "      <td>7.350830</td>\n",
       "      <td>-0.710597</td>\n",
       "      <td>6.684591</td>\n",
       "      <td>-0.044357</td>\n",
       "      <td>13.280468</td>\n",
       "      <td>13.324795</td>\n",
       "      <td>-0.044327</td>\n",
       "    </tr>\n",
       "    <tr>\n",
       "      <th>7</th>\n",
       "      <td>0.7</td>\n",
       "      <td>4.055200</td>\n",
       "      <td>8.110400</td>\n",
       "      <td>8.978325</td>\n",
       "      <td>-0.867925</td>\n",
       "      <td>8.164578</td>\n",
       "      <td>-0.054178</td>\n",
       "      <td>16.220800</td>\n",
       "      <td>16.274941</td>\n",
       "      <td>-0.054141</td>\n",
       "    </tr>\n",
       "    <tr>\n",
       "      <th>8</th>\n",
       "      <td>0.8</td>\n",
       "      <td>4.953032</td>\n",
       "      <td>9.906065</td>\n",
       "      <td>10.966150</td>\n",
       "      <td>-1.060086</td>\n",
       "      <td>9.972237</td>\n",
       "      <td>-0.066173</td>\n",
       "      <td>19.812130</td>\n",
       "      <td>19.878258</td>\n",
       "      <td>-0.066129</td>\n",
       "    </tr>\n",
       "    <tr>\n",
       "      <th>9</th>\n",
       "      <td>0.9</td>\n",
       "      <td>6.049647</td>\n",
       "      <td>12.099295</td>\n",
       "      <td>13.394086</td>\n",
       "      <td>-1.294791</td>\n",
       "      <td>12.180118</td>\n",
       "      <td>-0.080823</td>\n",
       "      <td>24.198590</td>\n",
       "      <td>24.279359</td>\n",
       "      <td>-0.080770</td>\n",
       "    </tr>\n",
       "    <tr>\n",
       "      <th>10</th>\n",
       "      <td>1.0</td>\n",
       "      <td>7.389056</td>\n",
       "      <td>14.778112</td>\n",
       "      <td>16.359574</td>\n",
       "      <td>-1.581462</td>\n",
       "      <td>14.876830</td>\n",
       "      <td>-0.098718</td>\n",
       "      <td>29.556224</td>\n",
       "      <td>29.654877</td>\n",
       "      <td>-0.098652</td>\n",
       "    </tr>\n",
       "    <tr>\n",
       "      <th>11</th>\n",
       "      <td>1.1</td>\n",
       "      <td>9.025013</td>\n",
       "      <td>18.050027</td>\n",
       "      <td>19.981629</td>\n",
       "      <td>-1.931602</td>\n",
       "      <td>18.170601</td>\n",
       "      <td>-0.120574</td>\n",
       "      <td>36.100054</td>\n",
       "      <td>36.220548</td>\n",
       "      <td>-0.120494</td>\n",
       "    </tr>\n",
       "    <tr>\n",
       "      <th>12</th>\n",
       "      <td>1.2</td>\n",
       "      <td>11.023176</td>\n",
       "      <td>22.046353</td>\n",
       "      <td>24.405617</td>\n",
       "      <td>-2.359264</td>\n",
       "      <td>22.193623</td>\n",
       "      <td>-0.147270</td>\n",
       "      <td>44.092706</td>\n",
       "      <td>44.239877</td>\n",
       "      <td>-0.147172</td>\n",
       "    </tr>\n",
       "    <tr>\n",
       "      <th>13</th>\n",
       "      <td>1.3</td>\n",
       "      <td>13.463738</td>\n",
       "      <td>26.927476</td>\n",
       "      <td>29.809087</td>\n",
       "      <td>-2.881611</td>\n",
       "      <td>27.107352</td>\n",
       "      <td>-0.179876</td>\n",
       "      <td>53.854952</td>\n",
       "      <td>54.034708</td>\n",
       "      <td>-0.179756</td>\n",
       "    </tr>\n",
       "    <tr>\n",
       "      <th>14</th>\n",
       "      <td>1.4</td>\n",
       "      <td>16.444647</td>\n",
       "      <td>32.889294</td>\n",
       "      <td>36.408902</td>\n",
       "      <td>-3.519608</td>\n",
       "      <td>33.108994</td>\n",
       "      <td>-0.219701</td>\n",
       "      <td>65.778587</td>\n",
       "      <td>65.998142</td>\n",
       "      <td>-0.219555</td>\n",
       "    </tr>\n",
       "    <tr>\n",
       "      <th>15</th>\n",
       "      <td>1.5</td>\n",
       "      <td>20.085537</td>\n",
       "      <td>40.171074</td>\n",
       "      <td>44.469933</td>\n",
       "      <td>-4.298859</td>\n",
       "      <td>40.439417</td>\n",
       "      <td>-0.268343</td>\n",
       "      <td>80.342148</td>\n",
       "      <td>80.610312</td>\n",
       "      <td>-0.268164</td>\n",
       "    </tr>\n",
       "  </tbody>\n",
       "</table>\n",
       "</div>"
      ],
      "text/plain": [
       "      x       f(x)         f'        ~f'      O(h)       ~~f'    O(h^2)  \\\n",
       "1   0.1   1.221403   2.442806   2.704219 -0.261414   2.459123 -0.016318   \n",
       "2   0.2   1.491825   2.983649   3.302941 -0.319292   3.003580 -0.019931   \n",
       "3   0.3   1.822119   3.644238   4.034221 -0.389984   3.668581 -0.024344   \n",
       "4   0.4   2.225541   4.451082   4.927409 -0.476327   4.480815 -0.029733   \n",
       "5   0.5   2.718282   5.436564   6.018351 -0.581787   5.472880 -0.036316   \n",
       "6   0.6   3.320117   6.640234   7.350830 -0.710597   6.684591 -0.044357   \n",
       "7   0.7   4.055200   8.110400   8.978325 -0.867925   8.164578 -0.054178   \n",
       "8   0.8   4.953032   9.906065  10.966150 -1.060086   9.972237 -0.066173   \n",
       "9   0.9   6.049647  12.099295  13.394086 -1.294791  12.180118 -0.080823   \n",
       "10  1.0   7.389056  14.778112  16.359574 -1.581462  14.876830 -0.098718   \n",
       "11  1.1   9.025013  18.050027  19.981629 -1.931602  18.170601 -0.120574   \n",
       "12  1.2  11.023176  22.046353  24.405617 -2.359264  22.193623 -0.147270   \n",
       "13  1.3  13.463738  26.927476  29.809087 -2.881611  27.107352 -0.179876   \n",
       "14  1.4  16.444647  32.889294  36.408902 -3.519608  33.108994 -0.219701   \n",
       "15  1.5  20.085537  40.171074  44.469933 -4.298859  40.439417 -0.268343   \n",
       "\n",
       "           f\"        ~f\"  O(h^2)_second  \n",
       "1    4.885611   4.901918      -0.016307  \n",
       "2    5.967299   5.987216      -0.019918  \n",
       "3    7.288475   7.312803      -0.024327  \n",
       "4    8.902164   8.931877      -0.029713  \n",
       "5   10.873127  10.909419      -0.036292  \n",
       "6   13.280468  13.324795      -0.044327  \n",
       "7   16.220800  16.274941      -0.054141  \n",
       "8   19.812130  19.878258      -0.066129  \n",
       "9   24.198590  24.279359      -0.080770  \n",
       "10  29.556224  29.654877      -0.098652  \n",
       "11  36.100054  36.220548      -0.120494  \n",
       "12  44.092706  44.239877      -0.147172  \n",
       "13  53.854952  54.034708      -0.179756  \n",
       "14  65.778587  65.998142      -0.219555  \n",
       "15  80.342148  80.610312      -0.268164  "
      ]
     },
     "execution_count": 22,
     "metadata": {},
     "output_type": "execute_result"
    }
   ],
   "source": [
    "get_table4(x, y, h)"
   ]
  },
  {
   "cell_type": "code",
   "execution_count": 23,
   "metadata": {},
   "outputs": [],
   "source": [
    "def get_optimal_h():\n",
    "    # уменьшаем в 2 раза постепенно\n",
    "    factor = 1.0 \n",
    "    min_error = 999999 # минимальная ошибка за все время\n",
    "\n",
    "    k = 0\n",
    "    # максимальное число итераций\n",
    "    maxk = 200\n",
    "    while k < maxk:\n",
    "        # пересчитываем узлы с новым шагом\n",
    "        x = np.linspace(a, b, int((b - a) / (h * factor) + 1))\n",
    "        y = [f(i) for i in x]\n",
    "        cur_error = np.abs(get_table4(x, y, h * factor, False)) # O(h^2)\n",
    "        k += 1\n",
    "        if cur_error < min_error:\n",
    "            min_error = cur_error\n",
    "            # уменьшаем в 2 раза\n",
    "            factor *= 0.5\n",
    "            continue\n",
    "\n",
    "        break\n",
    "\n",
    "\n",
    "    print('погрешность {} достигнута после {} итераций'.format(min_error, k))\n",
    "    print('h =', h * factor)"
   ]
  },
  {
   "cell_type": "code",
   "execution_count": 24,
   "metadata": {},
   "outputs": [
    {
     "name": "stdout",
     "output_type": "stream",
     "text": [
      "погрешность 1.8811974200616532e-10 достигнута после 17 итераций\n",
      "h = 1.52587890625e-06\n"
     ]
    }
   ],
   "source": [
    "get_optimal_h()"
   ]
  },
  {
   "cell_type": "markdown",
   "metadata": {},
   "source": [
    "## Задание 7"
   ]
  },
  {
   "cell_type": "code",
   "execution_count": 26,
   "metadata": {},
   "outputs": [],
   "source": [
    "y_var = sp.symbols('y')\n",
    "\n",
    "# функции\n",
    "f = sp.sin(x_var - 0.5*y_var ) - x_var + y_var**2\n",
    "g = (y_var + 0.1)**2 + x_var**2 - 0.7\n",
    "\n",
    "# производные\n",
    "dfx = diff(f, 'x')\n",
    "dfy = diff(f, 'y')\n",
    "dgx = diff(g, 'x')\n",
    "dgy = diff(g, 'y')\n",
    "\n",
    "# дельты\n",
    "def get_deltas(f, g, dfx, dfy, dgx, dgy):\n",
    "    return dfx * dgy - dfy * dgx, f * dgy - g * dfy, dfx * g - dgx * f\n",
    "d, dx, dy = get_deltas(f, g, dfx, dfy, dgx, dgy)"
   ]
  },
  {
   "cell_type": "code",
   "execution_count": 27,
   "metadata": {},
   "outputs": [],
   "source": [
    "def get_table3():\n",
    "    # начальная точка\n",
    "    x0 = 1\n",
    "    y0 = 1\n",
    "    eps = 1e-13\n",
    "\n",
    "    table = []\n",
    "    k = 0\n",
    "    kmax = 10000\n",
    "    while k < kmax:\n",
    "        div = (dx / d)\n",
    "        udx = div.subs({x_var: x0, y_var: y0})\n",
    "        udy = div.subs({x_var: x0, y_var: y0})\n",
    "        norm = np.sqrt(float(udx) ** 2 + float(udy) **2)\n",
    "\n",
    "        x0 -= udx\n",
    "        y0 -= udy\n",
    "        \n",
    "        f_value = f.subs({x_var: x0, y_var: y0})\n",
    "        g_value = g.subs({x_var: x0, y_var: y0})\n",
    "        table.append([x0, y0, norm, f_value, g_value])\n",
    "        if norm < eps:\n",
    "            print('Точность достигнута за {} итераций'.format(k))\n",
    "            break\n",
    "        k += 1\n",
    "    # выводим точку\n",
    "    print('x0:', x0, '| y0:', y0)\n",
    "    \n",
    "    cols = ['xk', 'yk', '||((xk − xk−1),(yk − yk−1))||', 'f(xk,yk)', 'g(xk,yk)']\n",
    "    return pd.DataFrame(table,\n",
    "             columns=cols)"
   ]
  },
  {
   "cell_type": "code",
   "execution_count": 28,
   "metadata": {},
   "outputs": [
    {
     "name": "stdout",
     "output_type": "stream",
     "text": [
      "Точность достигнута за 13 итераций\n",
      "x0: 0.569544340378799 | y0: 0.569544340378799\n"
     ]
    },
    {
     "data": {
      "text/html": [
       "<div>\n",
       "<style scoped>\n",
       "    .dataframe tbody tr th:only-of-type {\n",
       "        vertical-align: middle;\n",
       "    }\n",
       "\n",
       "    .dataframe tbody tr th {\n",
       "        vertical-align: top;\n",
       "    }\n",
       "\n",
       "    .dataframe thead th {\n",
       "        text-align: right;\n",
       "    }\n",
       "</style>\n",
       "<table border=\"1\" class=\"dataframe\">\n",
       "  <thead>\n",
       "    <tr style=\"text-align: right;\">\n",
       "      <th></th>\n",
       "      <th>xk</th>\n",
       "      <th>yk</th>\n",
       "      <th>||((xk − xk−1),(yk − yk−1))||</th>\n",
       "      <th>f(xk,yk)</th>\n",
       "      <th>g(xk,yk)</th>\n",
       "    </tr>\n",
       "  </thead>\n",
       "  <tbody>\n",
       "    <tr>\n",
       "      <th>0</th>\n",
       "      <td>0.615922625785221</td>\n",
       "      <td>0.615922625785221</td>\n",
       "      <td>5.431674e-01</td>\n",
       "      <td>0.0665545488374070</td>\n",
       "      <td>0.191905887065368</td>\n",
       "    </tr>\n",
       "    <tr>\n",
       "      <th>1</th>\n",
       "      <td>0.566152289957660</td>\n",
       "      <td>0.566152289957660</td>\n",
       "      <td>7.038588e-02</td>\n",
       "      <td>0.0336868076993732</td>\n",
       "      <td>0.0642872888401366</td>\n",
       "    </tr>\n",
       "    <tr>\n",
       "      <th>2</th>\n",
       "      <td>0.569882650316941</td>\n",
       "      <td>0.569882650316941</td>\n",
       "      <td>5.275526e-03</td>\n",
       "      <td>0.0359847276312787</td>\n",
       "      <td>0.0735090003279090</td>\n",
       "    </tr>\n",
       "    <tr>\n",
       "      <th>3</th>\n",
       "      <td>0.569511236080091</td>\n",
       "      <td>0.569511236080091</td>\n",
       "      <td>5.252591e-04</td>\n",
       "      <td>0.0357547308477221</td>\n",
       "      <td>0.0725883432589646</td>\n",
       "    </tr>\n",
       "    <tr>\n",
       "      <th>4</th>\n",
       "      <td>0.569547585947966</td>\n",
       "      <td>0.569547585947966</td>\n",
       "      <td>5.140648e-05</td>\n",
       "      <td>0.0357772286065451</td>\n",
       "      <td>0.0726784225079048</td>\n",
       "    </tr>\n",
       "    <tr>\n",
       "      <th>5</th>\n",
       "      <td>0.569544022240789</td>\n",
       "      <td>0.569544022240789</td>\n",
       "      <td>5.039843e-06</td>\n",
       "      <td>0.0357750228344954</td>\n",
       "      <td>0.0726695909885901</td>\n",
       "    </tr>\n",
       "    <tr>\n",
       "      <th>6</th>\n",
       "      <td>0.569544371563983</td>\n",
       "      <td>0.569544371563983</td>\n",
       "      <td>4.940176e-07</td>\n",
       "      <td>0.0357752390485216</td>\n",
       "      <td>0.0726704566732215</td>\n",
       "    </tr>\n",
       "    <tr>\n",
       "      <th>7</th>\n",
       "      <td>0.569544337321909</td>\n",
       "      <td>0.569544337321909</td>\n",
       "      <td>4.842561e-08</td>\n",
       "      <td>0.0357752178543366</td>\n",
       "      <td>0.0726703718152860</td>\n",
       "    </tr>\n",
       "    <tr>\n",
       "      <th>8</th>\n",
       "      <td>0.569544340678450</td>\n",
       "      <td>0.569544340678450</td>\n",
       "      <td>4.746866e-09</td>\n",
       "      <td>0.0357752199318730</td>\n",
       "      <td>0.0726703801333908</td>\n",
       "    </tr>\n",
       "    <tr>\n",
       "      <th>9</th>\n",
       "      <td>0.569544340349429</td>\n",
       "      <td>0.569544340349429</td>\n",
       "      <td>4.653065e-10</td>\n",
       "      <td>0.0357752197282247</td>\n",
       "      <td>0.0726703793180175</td>\n",
       "    </tr>\n",
       "    <tr>\n",
       "      <th>10</th>\n",
       "      <td>0.569544340381681</td>\n",
       "      <td>0.569544340381681</td>\n",
       "      <td>4.561113e-11</td>\n",
       "      <td>0.0357752197481871</td>\n",
       "      <td>0.0726703793979436</td>\n",
       "    </tr>\n",
       "    <tr>\n",
       "      <th>11</th>\n",
       "      <td>0.569544340378519</td>\n",
       "      <td>0.569544340378519</td>\n",
       "      <td>4.470966e-12</td>\n",
       "      <td>0.0357752197462303</td>\n",
       "      <td>0.0726703793901089</td>\n",
       "    </tr>\n",
       "    <tr>\n",
       "      <th>12</th>\n",
       "      <td>0.569544340378829</td>\n",
       "      <td>0.569544340378829</td>\n",
       "      <td>4.382217e-13</td>\n",
       "      <td>0.0357752197464221</td>\n",
       "      <td>0.0726703793908768</td>\n",
       "    </tr>\n",
       "    <tr>\n",
       "      <th>13</th>\n",
       "      <td>0.569544340378799</td>\n",
       "      <td>0.569544340378799</td>\n",
       "      <td>4.292968e-14</td>\n",
       "      <td>0.0357752197464034</td>\n",
       "      <td>0.0726703793908017</td>\n",
       "    </tr>\n",
       "  </tbody>\n",
       "</table>\n",
       "</div>"
      ],
      "text/plain": [
       "                   xk                 yk  ||((xk − xk−1),(yk − yk−1))||  \\\n",
       "0   0.615922625785221  0.615922625785221                   5.431674e-01   \n",
       "1   0.566152289957660  0.566152289957660                   7.038588e-02   \n",
       "2   0.569882650316941  0.569882650316941                   5.275526e-03   \n",
       "3   0.569511236080091  0.569511236080091                   5.252591e-04   \n",
       "4   0.569547585947966  0.569547585947966                   5.140648e-05   \n",
       "5   0.569544022240789  0.569544022240789                   5.039843e-06   \n",
       "6   0.569544371563983  0.569544371563983                   4.940176e-07   \n",
       "7   0.569544337321909  0.569544337321909                   4.842561e-08   \n",
       "8   0.569544340678450  0.569544340678450                   4.746866e-09   \n",
       "9   0.569544340349429  0.569544340349429                   4.653065e-10   \n",
       "10  0.569544340381681  0.569544340381681                   4.561113e-11   \n",
       "11  0.569544340378519  0.569544340378519                   4.470966e-12   \n",
       "12  0.569544340378829  0.569544340378829                   4.382217e-13   \n",
       "13  0.569544340378799  0.569544340378799                   4.292968e-14   \n",
       "\n",
       "              f(xk,yk)            g(xk,yk)  \n",
       "0   0.0665545488374070   0.191905887065368  \n",
       "1   0.0336868076993732  0.0642872888401366  \n",
       "2   0.0359847276312787  0.0735090003279090  \n",
       "3   0.0357547308477221  0.0725883432589646  \n",
       "4   0.0357772286065451  0.0726784225079048  \n",
       "5   0.0357750228344954  0.0726695909885901  \n",
       "6   0.0357752390485216  0.0726704566732215  \n",
       "7   0.0357752178543366  0.0726703718152860  \n",
       "8   0.0357752199318730  0.0726703801333908  \n",
       "9   0.0357752197282247  0.0726703793180175  \n",
       "10  0.0357752197481871  0.0726703793979436  \n",
       "11  0.0357752197462303  0.0726703793901089  \n",
       "12  0.0357752197464221  0.0726703793908768  \n",
       "13  0.0357752197464034  0.0726703793908017  "
      ]
     },
     "execution_count": 28,
     "metadata": {},
     "output_type": "execute_result"
    }
   ],
   "source": [
    "get_table3()"
   ]
  },
  {
   "cell_type": "code",
   "execution_count": 29,
   "metadata": {},
   "outputs": [
    {
     "data": {
      "image/png": "[encoded data removed]",
      "text/plain": [
       "<Figure size 432x288 with 1 Axes>"
      ]
     },
     "metadata": {
      "needs_background": "light"
     },
     "output_type": "display_data"
    },
    {
     "data": {
      "image/png": "[encoded data removed]",
      "text/plain": [
       "<Figure size 432x288 with 1 Axes>"
      ]
     },
     "metadata": {
      "needs_background": "light"
     },
     "output_type": "display_data"
    }
   ],
   "source": [
    "# график f = 0\n",
    "plot_implicit(Eq(f, 0))\n",
    "plt.show()\n",
    "# график g = 0\n",
    "plot_implicit(Eq(g, 0))\n",
    "plt.show()"
   ]
  },
  {
   "cell_type": "code",
   "execution_count": null,
   "metadata": {},
   "outputs": [],
   "source": []
  }
 ],
 "metadata": {
  "kernelspec": {
   "display_name": "Python 3",
   "language": "python",
   "name": "python3"
  },
  "language_info": {
   "codemirror_mode": {
    "name": "ipython",
    "version": 3
   },
   "file_extension": ".py",
   "mimetype": "text/x-python",
   "name": "python",
   "nbconvert_exporter": "python",
   "pygments_lexer": "ipython3",
   "version": "3.7.3"
  }
 },
 "nbformat": 4,
 "nbformat_minor": 2
}
