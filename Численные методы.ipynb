{
 "cells": [
  {
   "cell_type": "code",
   "execution_count": 1,
   "metadata": {},
   "outputs": [],
   "source": [
    "# импорт всех необходимых функций\n",
    "from help_functions import *"
   ]
  },
  {
   "cell_type": "markdown",
   "metadata": {},
   "source": [
    "## Задача 1"
   ]
  },
  {
   "cell_type": "code",
   "execution_count": 2,
   "metadata": {},
   "outputs": [],
   "source": [
    "def f(x):\n",
    "    return np.arccos(x)\n",
    "\n",
    "# max производных arccos\n",
    "max_derivs = [1, 1.17188, 1, 1.17188, 1] # – может ошибка тут?? но вроде нет\n",
    "\n",
    "def get_table1():\n",
    "    n = 4\n",
    "    interp_point = 0.35\n",
    "    # задаем функцию\n",
    "    f = lambda x: np.arccos(x)\n",
    "    # список теоритических границ\n",
    "    bounds = []\n",
    "    for i in range(n):\n",
    "        x = np.array([0, 0.1, 0.2, 0.3, 0.5, 0.6])\n",
    "        y = np.array([f(k) for k in x])\n",
    "        x, y = nearest_points(x, y, interp_point, i + 1)\n",
    "        bound = np.abs(np.prod(interp_point - np.array(x))) * max_derivs[i] / math.factorial(i + 1)\n",
    "        bounds.append(bound)\n",
    "    \n",
    "    # список абсолютных погр мн-в разных степеней\n",
    "    Rs = [] \n",
    "    for i in range(n):\n",
    "        x = np.array([0, 0.1, 0.2, 0.3, 0.5, 0.6])\n",
    "        y = np.array([f(k) for k in x])\n",
    "        x, y = nearest_points(x, y, interp_point, i + 1)\n",
    "        coefs = newton_coefs(x, y)\n",
    "        # считаем значение многочлена в точке\n",
    "        value = value_at_point(interp_point, coefs, x)\n",
    "        R = np.abs(value - f(interp_point))\n",
    "        # добавляем в список полученную абсолютную погрешность\n",
    "        Rs.append(R)\n",
    "    \n",
    "    return pd.DataFrame({'R': Rs, 'граница': bounds})"
   ]
  },
  {
   "cell_type": "code",
   "execution_count": 3,
   "metadata": {},
   "outputs": [
    {
     "data": {
      "text/html": [
       "<div>\n",
       "<style scoped>\n",
       "    .dataframe tbody tr th:only-of-type {\n",
       "        vertical-align: middle;\n",
       "    }\n",
       "\n",
       "    .dataframe tbody tr th {\n",
       "        vertical-align: top;\n",
       "    }\n",
       "\n",
       "    .dataframe thead th {\n",
       "        text-align: right;\n",
       "    }\n",
       "</style>\n",
       "<table border=\"1\" class=\"dataframe\">\n",
       "  <thead>\n",
       "    <tr style=\"text-align: right;\">\n",
       "      <th></th>\n",
       "      <th>R</th>\n",
       "      <th>граница</th>\n",
       "    </tr>\n",
       "  </thead>\n",
       "  <tbody>\n",
       "    <tr>\n",
       "      <th>0</th>\n",
       "      <td>0.052878</td>\n",
       "      <td>0.050000</td>\n",
       "    </tr>\n",
       "    <tr>\n",
       "      <th>1</th>\n",
       "      <td>0.001211</td>\n",
       "      <td>0.004395</td>\n",
       "    </tr>\n",
       "    <tr>\n",
       "      <th>2</th>\n",
       "      <td>0.000318</td>\n",
       "      <td>0.000187</td>\n",
       "    </tr>\n",
       "    <tr>\n",
       "      <th>3</th>\n",
       "      <td>0.000046</td>\n",
       "      <td>0.000014</td>\n",
       "    </tr>\n",
       "  </tbody>\n",
       "</table>\n",
       "</div>"
      ],
      "text/plain": [
       "          R   граница\n",
       "0  0.052878  0.050000\n",
       "1  0.001211  0.004395\n",
       "2  0.000318  0.000187\n",
       "3  0.000046  0.000014"
      ]
     },
     "execution_count": 3,
     "metadata": {},
     "output_type": "execute_result"
    }
   ],
   "source": [
    "# значения получаются странными (граница меньше R, но коэф-ты перепроверяла, максимумы производных вроде как тоже верные)\n",
    "# не понятно\n",
    "get_table1()"
   ]
  },
  {
   "cell_type": "code",
   "execution_count": 4,
   "metadata": {},
   "outputs": [],
   "source": [
    "def get_table2():\n",
    "    # по равностоящим узлам\n",
    "    a = 0.5\n",
    "    b = 1.5\n",
    "    n = 4\n",
    "    # шаг\n",
    "    h = 0.1\n",
    "    f = lambda x: np.cos(x)\n",
    "    # дробим отрезок на части длиной h\n",
    "    x = np.linspace(a, b, int((b - a) / h)  + 1)\n",
    "    y = [f(z) for z in x]\n",
    "    interp_point = 0.45\n",
    "    t = (interp_point - a) / h\n",
    "\n",
    "    table = np.zeros((n + 1, 6))\n",
    "    for k in range(n + 1):\n",
    "        ds_y0 = finite_differences(y, k) # считаем разности \n",
    "        dk_y0 = ds_y0[-1]\n",
    "        nk = get_Nk(t, k)\n",
    "        nk_delta = nk * dk_y0\n",
    "        pk = get_Pk(ds_y0, t, k)\n",
    "\n",
    "        # оценка погрешности\n",
    "        m_kpo = np.abs(max_derivs[k])\n",
    "        n_kpo = get_Nk(t, k + 1)\n",
    "        th_R = np.abs(n_kpo) * m_kpo * h ** (k + 1)\n",
    "        # записываем в таблицу\n",
    "        table[k] = np.array([dk_y0, nk, nk_delta, pk, f(interp_point) - pk, th_R])\n",
    "        \n",
    "    index = ['∆k*y0', 'N_k(t)', 'N_k*∆k*y0',\n",
    "            f'P_k({interp_point})', f'f({interp_point}) - P_k({interp_point})',\n",
    "            f'|R_k({interp_point})| <=']\n",
    "    return pd.DataFrame(table.T, index=index)"
   ]
  },
  {
   "cell_type": "code",
   "execution_count": 5,
   "metadata": {},
   "outputs": [
    {
     "data": {
      "text/html": [
       "<div>\n",
       "<style scoped>\n",
       "    .dataframe tbody tr th:only-of-type {\n",
       "        vertical-align: middle;\n",
       "    }\n",
       "\n",
       "    .dataframe tbody tr th {\n",
       "        vertical-align: top;\n",
       "    }\n",
       "\n",
       "    .dataframe thead th {\n",
       "        text-align: right;\n",
       "    }\n",
       "</style>\n",
       "<table border=\"1\" class=\"dataframe\">\n",
       "  <thead>\n",
       "    <tr style=\"text-align: right;\">\n",
       "      <th></th>\n",
       "      <th>0</th>\n",
       "      <th>1</th>\n",
       "      <th>2</th>\n",
       "      <th>3</th>\n",
       "      <th>4</th>\n",
       "    </tr>\n",
       "  </thead>\n",
       "  <tbody>\n",
       "    <tr>\n",
       "      <th>∆k*y0</th>\n",
       "      <td>0.877583</td>\n",
       "      <td>-0.052247</td>\n",
       "      <td>-0.008246</td>\n",
       "      <td>0.000604</td>\n",
       "      <td>0.000076</td>\n",
       "    </tr>\n",
       "    <tr>\n",
       "      <th>N_k(t)</th>\n",
       "      <td>1.000000</td>\n",
       "      <td>-0.500000</td>\n",
       "      <td>0.375000</td>\n",
       "      <td>-0.312500</td>\n",
       "      <td>0.273438</td>\n",
       "    </tr>\n",
       "    <tr>\n",
       "      <th>N_k*∆k*y0</th>\n",
       "      <td>0.877583</td>\n",
       "      <td>0.026123</td>\n",
       "      <td>-0.003092</td>\n",
       "      <td>-0.000189</td>\n",
       "      <td>0.000021</td>\n",
       "    </tr>\n",
       "    <tr>\n",
       "      <th>P_k(0.45)</th>\n",
       "      <td>0.877583</td>\n",
       "      <td>0.903706</td>\n",
       "      <td>0.900614</td>\n",
       "      <td>0.900425</td>\n",
       "      <td>0.900446</td>\n",
       "    </tr>\n",
       "    <tr>\n",
       "      <th>f(0.45) - P_k(0.45)</th>\n",
       "      <td>0.022865</td>\n",
       "      <td>-0.003259</td>\n",
       "      <td>-0.000167</td>\n",
       "      <td>0.000022</td>\n",
       "      <td>0.000002</td>\n",
       "    </tr>\n",
       "    <tr>\n",
       "      <th>|R_k(0.45)| &lt;=</th>\n",
       "      <td>0.050000</td>\n",
       "      <td>0.004395</td>\n",
       "      <td>0.000313</td>\n",
       "      <td>0.000032</td>\n",
       "      <td>0.000002</td>\n",
       "    </tr>\n",
       "  </tbody>\n",
       "</table>\n",
       "</div>"
      ],
      "text/plain": [
       "                            0         1         2         3         4\n",
       "∆k*y0                0.877583 -0.052247 -0.008246  0.000604  0.000076\n",
       "N_k(t)               1.000000 -0.500000  0.375000 -0.312500  0.273438\n",
       "N_k*∆k*y0            0.877583  0.026123 -0.003092 -0.000189  0.000021\n",
       "P_k(0.45)            0.877583  0.903706  0.900614  0.900425  0.900446\n",
       "f(0.45) - P_k(0.45)  0.022865 -0.003259 -0.000167  0.000022  0.000002\n",
       "|R_k(0.45)| <=       0.050000  0.004395  0.000313  0.000032  0.000002"
      ]
     },
     "execution_count": 5,
     "metadata": {},
     "output_type": "execute_result"
    }
   ],
   "source": [
    "get_table2()"
   ]
  },
  {
   "cell_type": "markdown",
   "metadata": {},
   "source": [
    "## Задание 2"
   ]
  },
  {
   "cell_type": "code",
   "execution_count": 6,
   "metadata": {},
   "outputs": [
    {
     "name": "stdout",
     "output_type": "stream",
     "text": [
      "[1.266103672779499, -1.0333473322506672, -0.20394425221279877, -0.2418314309950376, -0.23816127753504696, -0.213694653177382]\n"
     ]
    }
   ],
   "source": [
    "def f(x):\n",
    "    return np.arccos(x)\n",
    "\n",
    "x = np.array([0, 0.1, 0.2, 0.3, 0.5, 0.6])\n",
    "y = np.array([f(i) for i in x])\n",
    "interp_point = 0.35\n",
    "x, y = nearest_points(x, y, interp_point, len(x)) # построим многочлен 5й степени\n",
    "\n",
    "coefs = newton_coefs(x, y)\n",
    "print(coefs)"
   ]
  },
  {
   "cell_type": "code",
   "execution_count": 7,
   "metadata": {},
   "outputs": [
    {
     "data": {
      "text/latex": [
       "$\\displaystyle - 1.03334733225067 x - 0.213694653177382 \\left(x - 0.6\\right) \\left(x - 0.5\\right) \\left(x - 0.3\\right) \\left(x - 0.2\\right) \\left(x - 0.1\\right) - 0.238161277535047 \\left(x - 0.5\\right) \\left(x - 0.3\\right) \\left(x - 0.2\\right) \\left(x - 0.1\\right) - 0.241831430995038 \\left(x - 0.5\\right) \\left(x - 0.3\\right) \\left(x - 0.2\\right) - 0.203944252212799 \\left(x - 0.3\\right) \\left(x - 0.2\\right) + 1.5761078724547$"
      ],
      "text/plain": [
       "-1.03334733225067*x - 0.213694653177382*(x - 0.6)*(x - 0.5)*(x - 0.3)*(x - 0.2)*(x - 0.1) - 0.238161277535047*(x - 0.5)*(x - 0.3)*(x - 0.2)*(x - 0.1) - 0.241831430995038*(x - 0.5)*(x - 0.3)*(x - 0.2) - 0.203944252212799*(x - 0.3)*(x - 0.2) + 1.5761078724547"
      ]
     },
     "execution_count": 7,
     "metadata": {},
     "output_type": "execute_result"
    }
   ],
   "source": [
    "x_var = sp.symbols('x')\n",
    "polynom = sympy_poly(x, y, x_var, coefs)\n",
    "\n",
    "true_value = 0.75\n",
    "true_point = np.cos(true_value)\n",
    "polynom"
   ]
  },
  {
   "cell_type": "code",
   "execution_count": 8,
   "metadata": {},
   "outputs": [
    {
     "name": "stdout",
     "output_type": "stream",
     "text": [
      "решение нашлось после 3 итераций.\n"
     ]
    }
   ],
   "source": [
    "root = newton_root(polynom - true_value, 0.5, 0.000001, 100)"
   ]
  },
  {
   "cell_type": "code",
   "execution_count": 9,
   "metadata": {},
   "outputs": [
    {
     "data": {
      "text/html": [
       "<div>\n",
       "<style scoped>\n",
       "    .dataframe tbody tr th:only-of-type {\n",
       "        vertical-align: middle;\n",
       "    }\n",
       "\n",
       "    .dataframe tbody tr th {\n",
       "        vertical-align: top;\n",
       "    }\n",
       "\n",
       "    .dataframe thead th {\n",
       "        text-align: right;\n",
       "    }\n",
       "</style>\n",
       "<table border=\"1\" class=\"dataframe\">\n",
       "  <thead>\n",
       "    <tr style=\"text-align: right;\">\n",
       "      <th></th>\n",
       "      <th></th>\n",
       "    </tr>\n",
       "  </thead>\n",
       "  <tbody>\n",
       "    <tr>\n",
       "      <th>настоящая точка</th>\n",
       "      <td>0.731689</td>\n",
       "    </tr>\n",
       "    <tr>\n",
       "      <th>корень</th>\n",
       "      <td>0.732664973336608</td>\n",
       "    </tr>\n",
       "    <tr>\n",
       "      <th>ошибка</th>\n",
       "      <td>0.000976104462787175</td>\n",
       "    </tr>\n",
       "    <tr>\n",
       "      <th>настоящее значение</th>\n",
       "      <td>0.75</td>\n",
       "    </tr>\n",
       "    <tr>\n",
       "      <th>приближение</th>\n",
       "      <td>0.75</td>\n",
       "    </tr>\n",
       "  </tbody>\n",
       "</table>\n",
       "</div>"
      ],
      "text/plain": [
       "                                        \n",
       "настоящая точка                 0.731689\n",
       "корень                 0.732664973336608\n",
       "ошибка              0.000976104462787175\n",
       "настоящее значение                  0.75\n",
       "приближение                         0.75"
      ]
     },
     "execution_count": 9,
     "metadata": {},
     "output_type": "execute_result"
    }
   ],
   "source": [
    "estimation = float(polynom.subs({x_var : root}))\n",
    "pd.DataFrame([true_point, root, root - true_point, true_value, estimation],\n",
    "             index=['настоящая точка', 'корень', 'ошибка', 'настоящее значение', 'приближение'], columns=[''])"
   ]
  },
  {
   "cell_type": "markdown",
   "metadata": {},
   "source": [
    "## Задание 3"
   ]
  },
  {
   "cell_type": "code",
   "execution_count": 10,
   "metadata": {},
   "outputs": [
    {
     "data": {
      "text/html": [
       "<div>\n",
       "<style scoped>\n",
       "    .dataframe tbody tr th:only-of-type {\n",
       "        vertical-align: middle;\n",
       "    }\n",
       "\n",
       "    .dataframe tbody tr th {\n",
       "        vertical-align: top;\n",
       "    }\n",
       "\n",
       "    .dataframe thead th {\n",
       "        text-align: right;\n",
       "    }\n",
       "</style>\n",
       "<table border=\"1\" class=\"dataframe\">\n",
       "  <thead>\n",
       "    <tr style=\"text-align: right;\">\n",
       "      <th></th>\n",
       "      <th>приближение</th>\n",
       "      <th>Рунге</th>\n",
       "      <th>ошибка</th>\n",
       "    </tr>\n",
       "  </thead>\n",
       "  <tbody>\n",
       "    <tr>\n",
       "      <th>0</th>\n",
       "      <td>0.977887</td>\n",
       "      <td>0.977995</td>\n",
       "      <td>0.000108</td>\n",
       "    </tr>\n",
       "  </tbody>\n",
       "</table>\n",
       "</div>"
      ],
      "text/plain": [
       "   приближение     Рунге    ошибка\n",
       "0     0.977887  0.977995  0.000108"
      ]
     },
     "execution_count": 10,
     "metadata": {},
     "output_type": "execute_result"
    }
   ],
   "source": [
    "def f(x):\n",
    "    return 1 / (1 + x**2)\n",
    "# по корням мн-на\n",
    "interp_point = 0.15\n",
    "n = 7\n",
    "x = [np.cos(np.pi * (2 * k + 8) / 22) for k in range(n)]\n",
    "y = [f(i) for i in x]\n",
    "\n",
    "x, y = nearest_points(x, y, interp_point, n) \n",
    "coefs = newton_coefs(x, y)\n",
    "estimation = value_at_point(interp_point, coefs, x)\n",
    "\n",
    "pd.DataFrame({'приближение': [estimation], 'Рунге': [f(interp_point)], 'ошибка': [np.abs(estimation - f(interp_point))]})"
   ]
  },
  {
   "cell_type": "code",
   "execution_count": 11,
   "metadata": {},
   "outputs": [],
   "source": [
    "# по равностоящим узлам\n",
    "a = -1\n",
    "b = 1\n",
    "h = (b - a) / (n - 1)\n",
    "x = np.linspace(a, b, n)\n",
    "y = [f(i) for i in x]\n",
    "t = interp_point / h"
   ]
  },
  {
   "cell_type": "code",
   "execution_count": 12,
   "metadata": {},
   "outputs": [],
   "source": [
    "ds_y0 = finite_differences2(y, n - 1)\n",
    "ds_y0 = [ds_y0[k][3 - k // 2] for k in range(n)] # получаем средний ряд\n",
    "# считаем Nk\n",
    "Nks = [1]\n",
    "for i in range(1, n): Nks.append(Nks[-1] * (t - (-1)**i * (i // 2)) / i)\n",
    "estimation = 0\n",
    "for i, j in zip(ds_y0, Nks):\n",
    "    estimation += i * j"
   ]
  },
  {
   "cell_type": "code",
   "execution_count": 13,
   "metadata": {},
   "outputs": [
    {
     "data": {
      "text/html": [
       "<div>\n",
       "<style scoped>\n",
       "    .dataframe tbody tr th:only-of-type {\n",
       "        vertical-align: middle;\n",
       "    }\n",
       "\n",
       "    .dataframe tbody tr th {\n",
       "        vertical-align: top;\n",
       "    }\n",
       "\n",
       "    .dataframe thead th {\n",
       "        text-align: right;\n",
       "    }\n",
       "</style>\n",
       "<table border=\"1\" class=\"dataframe\">\n",
       "  <thead>\n",
       "    <tr style=\"text-align: right;\">\n",
       "      <th></th>\n",
       "      <th>приближение</th>\n",
       "      <th>Рунге</th>\n",
       "      <th>ошибка</th>\n",
       "    </tr>\n",
       "  </thead>\n",
       "  <tbody>\n",
       "    <tr>\n",
       "      <th>0</th>\n",
       "      <td>0.978246</td>\n",
       "      <td>0.977995</td>\n",
       "      <td>0.000251</td>\n",
       "    </tr>\n",
       "  </tbody>\n",
       "</table>\n",
       "</div>"
      ],
      "text/plain": [
       "   приближение     Рунге    ошибка\n",
       "0     0.978246  0.977995  0.000251"
      ]
     },
     "execution_count": 13,
     "metadata": {},
     "output_type": "execute_result"
    }
   ],
   "source": [
    "pd.DataFrame({'приближение': [estimation],\n",
    "              'Рунге': [f(interp_point)],\n",
    "              'ошибка': [np.abs(estimation - f(interp_point))]})"
   ]
  },
  {
   "cell_type": "markdown",
   "metadata": {},
   "source": [
    "## Задача 4"
   ]
  },
  {
   "cell_type": "code",
   "execution_count": 14,
   "metadata": {},
   "outputs": [
    {
     "name": "stdout",
     "output_type": "stream",
     "text": [
      "[24, 39.0, -21.0, 2.222222222222222]\n"
     ]
    }
   ],
   "source": [
    "x = [-2, -2, -2, 1]\n",
    "y = [24, 24, 24, 12]\n",
    "dy = [39, 39, 39, None]\n",
    "d2y = [-42, -42, -42, None]\n",
    "# сортируем\n",
    "inds = [m[1] for m in sorted(zip(x, range(len(x))))]\n",
    "x = [x[i] for i in inds]\n",
    "y = [y[i] for i in inds]\n",
    "dy = [dy[i] for i in inds]\n",
    "d2y = [d2y[i] for i in inds]\n",
    "# производные \n",
    "derivatives = [y, dy, d2y]\n",
    "# порядок\n",
    "order = 5\n",
    "# коэф-ты\n",
    "coefs = divided_differences(x, y, order, derivatives)\n",
    "print(coefs)"
   ]
  },
  {
   "cell_type": "code",
   "execution_count": 15,
   "metadata": {},
   "outputs": [
    {
     "data": {
      "text/latex": [
       "$\\displaystyle 39.0 x + 2.22222222222222 \\left(x + 2\\right)^{3} - 21.0 \\left(x + 2\\right)^{2} + 102.0$"
      ],
      "text/plain": [
       "39.0*x + 2.22222222222222*(x + 2)**3 - 21.0*(x + 2)**2 + 102.0"
      ]
     },
     "execution_count": 15,
     "metadata": {},
     "output_type": "execute_result"
    }
   ],
   "source": [
    "# получаем многочлен по коэф-там\n",
    "polynom = sympy_poly(x, y, x_var, coefs)\n",
    "polynom"
   ]
  },
  {
   "cell_type": "code",
   "execution_count": 16,
   "metadata": {},
   "outputs": [
    {
     "name": "stdout",
     "output_type": "stream",
     "text": [
      "24.0000000000000 - значение в -2\n",
      "12.0000000000000 - значение в 1\n",
      "39.0000000000000 - первая производная в -2\n",
      "-42.0000000000000 - вторая производная в -2\n"
     ]
    }
   ],
   "source": [
    "# проверка\n",
    "print(polynom.subs({x_var: -2}), '- значение в -2')\n",
    "print(polynom.subs({x_var: 1}), '- значение в 1')\n",
    "print(diff(polynom).subs({x_var: -2}), '- первая производная в -2')\n",
    "print(diff(diff(polynom)).subs({x_var: -2}), '- вторая производная в -2')"
   ]
  },
  {
   "cell_type": "markdown",
   "metadata": {},
   "source": [
    "## Задача 6"
   ]
  },
  {
   "cell_type": "markdown",
   "metadata": {},
   "source": [
    "## 1\n",
    "\n",
    "wolfram: \n",
    "$ \\int_{0}^{1}\\frac{\\cos(x)}{\\sqrt{x}} dx = 1.80905\\$\n",
    "\n",
    "## 2"
   ]
  },
  {
   "cell_type": "code",
   "execution_count": 17,
   "metadata": {},
   "outputs": [
    {
     "data": {
      "text/plain": [
       "1.2410891611274912"
      ]
     },
     "execution_count": 17,
     "metadata": {},
     "output_type": "execute_result"
    }
   ],
   "source": [
    "simpson = (1 - 0) * np.cos(0.5)/np.sqrt(0.5)\n",
    "simpson"
   ]
  },
  {
   "cell_type": "markdown",
   "metadata": {},
   "source": [
    "## 3"
   ]
  },
  {
   "cell_type": "code",
   "execution_count": 18,
   "metadata": {},
   "outputs": [
    {
     "data": {
      "text/plain": [
       "1.8587503258090148"
      ]
     },
     "execution_count": 18,
     "metadata": {},
     "output_type": "execute_result"
    }
   ],
   "source": [
    "#узлы\n",
    "nodes = np.array([1/4, 3/4])\n",
    "#моменты весовой функции\n",
    "moment = np.array([2, 2/3, 2/5, 2/7])\n",
    "#коэфициенты\n",
    "A = []\n",
    "A.append((moment[0]*nodes[1]-moment[1])/(nodes[1]-nodes[0]))\n",
    "A.append((moment[1]-moment[0]*nodes[0])/(nodes[1]-nodes[0]))\n",
    "#приближенное значение интеграла\n",
    "quadrature = 0\n",
    "for i in range(2):\n",
    "    quadrature += A[i]*np.cos(nodes[i])\n",
    "quadrature"
   ]
  },
  {
   "cell_type": "markdown",
   "metadata": {},
   "source": [
    "## 4"
   ]
  },
  {
   "cell_type": "code",
   "execution_count": 19,
   "metadata": {},
   "outputs": [
    {
     "name": "stdout",
     "output_type": "stream",
     "text": [
      "1.80861639537771\n"
     ]
    }
   ],
   "source": [
    "#моменты уже посчитаны в пункте 3\n",
    "#ищем коэфициенты многочлена\n",
    "M1 = []\n",
    "v1 =[]\n",
    "for i in range(2):\n",
    "    M1.append([moment[i], moment[i+1]]) \n",
    "    v1.append(-moment[i+2])\n",
    "a0 = 3/35\n",
    "a1 = -6/7\n",
    "#находим корни -узлы\n",
    "w = x_var ** 2 + a1 * x_var + a0\n",
    "root = sp.solve(w)\n",
    "#\n",
    "A = []\n",
    "A.append((moment[0]*root[1]-moment[1])/(root[1]-root[0]))\n",
    "A.append((moment[1]-moment[0]*root[0])/(root[1]-root[0]))\n",
    "quadrature = 0\n",
    "for i in range(2):\n",
    "    quadrature += A[i]*np.cos(float(root[i]))\n",
    "print(quadrature)"
   ]
  }
 ],
 "metadata": {
  "kernelspec": {
   "display_name": "Python 3",
   "language": "python",
   "name": "python3"
  },
  "language_info": {
   "codemirror_mode": {
    "name": "ipython",
    "version": 3
   },
   "file_extension": ".py",
   "mimetype": "text/x-python",
   "name": "python",
   "nbconvert_exporter": "python",
   "pygments_lexer": "ipython3",
   "version": "3.7.3"
  }
 },
 "nbformat": 4,
 "nbformat_minor": 2
}
